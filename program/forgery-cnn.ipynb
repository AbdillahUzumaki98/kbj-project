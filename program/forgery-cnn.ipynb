{
 "cells": [
  {
   "cell_type": "code",
   "execution_count": 1,
   "metadata": {},
   "outputs": [
    {
     "name": "stderr",
     "output_type": "stream",
     "text": [
      "2023-04-12 15:35:38.193286: I tensorflow/core/platform/cpu_feature_guard.cc:193] This TensorFlow binary is optimized with oneAPI Deep Neural Network Library (oneDNN) to use the following CPU instructions in performance-critical operations:  AVX2 FMA\n",
      "To enable them in other operations, rebuild TensorFlow with the appropriate compiler flags.\n",
      "2023-04-12 15:35:38.922947: W tensorflow/compiler/xla/stream_executor/platform/default/dso_loader.cc:64] Could not load dynamic library 'libnvinfer.so.7'; dlerror: libnvinfer.so.7: cannot open shared object file: No such file or directory; LD_LIBRARY_PATH: :/home/rudyrachman16/miniconda3/envs/tf/lib/\n",
      "2023-04-12 15:35:38.927117: W tensorflow/compiler/xla/stream_executor/platform/default/dso_loader.cc:64] Could not load dynamic library 'libnvinfer_plugin.so.7'; dlerror: libnvinfer_plugin.so.7: cannot open shared object file: No such file or directory; LD_LIBRARY_PATH: :/home/rudyrachman16/miniconda3/envs/tf/lib/\n",
      "2023-04-12 15:35:38.927138: W tensorflow/compiler/tf2tensorrt/utils/py_utils.cc:38] TF-TRT Warning: Cannot dlopen some TensorRT libraries. If you would like to use Nvidia GPU with TensorRT, please make sure the missing libraries mentioned above are installed properly.\n"
     ]
    }
   ],
   "source": [
    "from tensorflow.keras.utils import Sequence\n",
    "from tensorflow.keras.applications.mobilenet import MobileNet\n",
    "from tensorflow.keras.applications.vgg16 import VGG16\n",
    "from tensorflow.keras.models import Sequential,Model\n",
    "from tensorflow.keras.layers import Dense, Dropout, Activation, Flatten, GlobalAveragePooling2D\n",
    "from tensorflow.keras.layers import Conv2D, ZeroPadding2D, MaxPool2D\n",
    "from tensorflow.keras.layers import BatchNormalization\n",
    "from tensorflow.keras.preprocessing.image import ImageDataGenerator\n",
    "from keras.callbacks import EarlyStopping, ReduceLROnPlateau, ModelCheckpoint #import Cllback function\n",
    "\n",
    "import numpy as np\n",
    "import matplotlib.pyplot as plt\n",
    "\n",
    "import os"
   ]
  },
  {
   "cell_type": "code",
   "execution_count": 2,
   "metadata": {},
   "outputs": [],
   "source": [
    "os.chdir(\"../dataset\")"
   ]
  },
  {
   "cell_type": "code",
   "execution_count": 3,
   "metadata": {},
   "outputs": [],
   "source": [
    "parent = \"2_0_ready\"\n",
    "\n",
    "train_path = f\"{parent}/train\"\n",
    "validation_path = f\"{parent}/validation\"\n",
    "test_path = f\"{parent}/test\""
   ]
  },
  {
   "cell_type": "code",
   "execution_count": 4,
   "metadata": {},
   "outputs": [],
   "source": [
    "batch_size = 32\n",
    "img_height = 224\n",
    "img_width = 224"
   ]
  },
  {
   "cell_type": "code",
   "execution_count": 5,
   "metadata": {},
   "outputs": [],
   "source": [
    "from keras.preprocessing.image import ImageDataGenerator\n",
    "train_datagen= ImageDataGenerator(\n",
    "                rescale=1./255,\n",
    "                # zoom_range=0.15, \n",
    "                # width_shift_range=0.2,\n",
    "                # shear_range=0.15\n",
    "                )\n",
    "test_datagen = ImageDataGenerator(rescale=1./255)"
   ]
  },
  {
   "cell_type": "code",
   "execution_count": 6,
   "metadata": {},
   "outputs": [
    {
     "name": "stdout",
     "output_type": "stream",
     "text": [
      "Found 320 images belonging to 2 classes.\n",
      "Found 38 images belonging to 2 classes.\n",
      "Found 38 images belonging to 2 classes.\n"
     ]
    }
   ],
   "source": [
    "#setting train test split\n",
    "train = train_datagen.flow_from_directory(\n",
    "        train_path,\n",
    "        target_size=(img_height,img_width),\n",
    "        class_mode='categorical',\n",
    "        batch_size=batch_size,\n",
    "        subset='training' )\n",
    "\n",
    "test = test_datagen.flow_from_directory(\n",
    "        test_path,\n",
    "        target_size=(img_height,img_width),\n",
    "        class_mode='categorical',\n",
    "        batch_size=batch_size,\n",
    "        shuffle=False )\n",
    "\n",
    "validation = test_datagen.flow_from_directory(\n",
    "        validation_path,\n",
    "        target_size=(img_height,img_width),\n",
    "        class_mode='categorical',\n",
    "        batch_size=batch_size,\n",
    "        shuffle=False )"
   ]
  },
  {
   "cell_type": "code",
   "execution_count": 7,
   "metadata": {},
   "outputs": [
    {
     "data": {
      "text/plain": [
       "2"
      ]
     },
     "execution_count": 7,
     "metadata": {},
     "output_type": "execute_result"
    }
   ],
   "source": [
    "classes = train.num_classes\n",
    "classes"
   ]
  },
  {
   "cell_type": "code",
   "execution_count": 8,
   "metadata": {},
   "outputs": [
    {
     "name": "stderr",
     "output_type": "stream",
     "text": [
      "2023-04-12 15:35:40.540983: I tensorflow/compiler/xla/stream_executor/cuda/cuda_gpu_executor.cc:967] could not open file to read NUMA node: /sys/bus/pci/devices/0000:01:00.0/numa_node\n",
      "Your kernel may have been built without NUMA support.\n",
      "2023-04-12 15:35:40.570687: I tensorflow/compiler/xla/stream_executor/cuda/cuda_gpu_executor.cc:967] could not open file to read NUMA node: /sys/bus/pci/devices/0000:01:00.0/numa_node\n",
      "Your kernel may have been built without NUMA support.\n",
      "2023-04-12 15:35:40.570772: I tensorflow/compiler/xla/stream_executor/cuda/cuda_gpu_executor.cc:967] could not open file to read NUMA node: /sys/bus/pci/devices/0000:01:00.0/numa_node\n",
      "Your kernel may have been built without NUMA support.\n",
      "2023-04-12 15:35:40.572036: I tensorflow/core/platform/cpu_feature_guard.cc:193] This TensorFlow binary is optimized with oneAPI Deep Neural Network Library (oneDNN) to use the following CPU instructions in performance-critical operations:  AVX2 FMA\n",
      "To enable them in other operations, rebuild TensorFlow with the appropriate compiler flags.\n",
      "2023-04-12 15:35:40.577256: I tensorflow/compiler/xla/stream_executor/cuda/cuda_gpu_executor.cc:967] could not open file to read NUMA node: /sys/bus/pci/devices/0000:01:00.0/numa_node\n",
      "Your kernel may have been built without NUMA support.\n",
      "2023-04-12 15:35:40.577322: I tensorflow/compiler/xla/stream_executor/cuda/cuda_gpu_executor.cc:967] could not open file to read NUMA node: /sys/bus/pci/devices/0000:01:00.0/numa_node\n",
      "Your kernel may have been built without NUMA support.\n",
      "2023-04-12 15:35:40.577351: I tensorflow/compiler/xla/stream_executor/cuda/cuda_gpu_executor.cc:967] could not open file to read NUMA node: /sys/bus/pci/devices/0000:01:00.0/numa_node\n",
      "Your kernel may have been built without NUMA support.\n",
      "2023-04-12 15:35:41.611871: I tensorflow/compiler/xla/stream_executor/cuda/cuda_gpu_executor.cc:967] could not open file to read NUMA node: /sys/bus/pci/devices/0000:01:00.0/numa_node\n",
      "Your kernel may have been built without NUMA support.\n",
      "2023-04-12 15:35:41.612097: I tensorflow/compiler/xla/stream_executor/cuda/cuda_gpu_executor.cc:967] could not open file to read NUMA node: /sys/bus/pci/devices/0000:01:00.0/numa_node\n",
      "Your kernel may have been built without NUMA support.\n",
      "2023-04-12 15:35:41.612109: I tensorflow/core/common_runtime/gpu/gpu_device.cc:1700] Could not identify NUMA node of platform GPU id 0, defaulting to 0.  Your kernel may not have been built with NUMA support.\n",
      "2023-04-12 15:35:41.612159: I tensorflow/compiler/xla/stream_executor/cuda/cuda_gpu_executor.cc:967] could not open file to read NUMA node: /sys/bus/pci/devices/0000:01:00.0/numa_node\n",
      "Your kernel may have been built without NUMA support.\n",
      "2023-04-12 15:35:41.612189: I tensorflow/core/common_runtime/gpu/gpu_device.cc:1613] Created device /job:localhost/replica:0/task:0/device:GPU:0 with 9538 MB memory:  -> device: 0, name: NVIDIA GeForce RTX 3060, pci bus id: 0000:01:00.0, compute capability: 8.6\n"
     ]
    }
   ],
   "source": [
    "# conv_model = MobileNet(weights='imagenet', include_top=False, input_shape=(224,224,3)) \n",
    "conv_model = VGG16(weights='imagenet', include_top=False, input_shape=(224,224,3)) "
   ]
  },
  {
   "cell_type": "code",
   "execution_count": 9,
   "metadata": {},
   "outputs": [],
   "source": [
    "conv_model.trainable = False"
   ]
  },
  {
   "cell_type": "code",
   "execution_count": 10,
   "metadata": {},
   "outputs": [],
   "source": [
    "def main_model(tl_model,classess):\n",
    "    m_model=tl_model.output\n",
    "    m_model=Flatten()(m_model)\n",
    "    m_model=Dense(1024,activation='relu')(m_model)\n",
    "    m_model=Dense(1024,activation='relu')(m_model)\n",
    "    m_model=Dense(512,activation='relu')(m_model)\n",
    "    m_model=Dense(classess,activation='softmax')(m_model)\n",
    "    return m_model\n",
    "\n"
   ]
  },
  {
   "cell_type": "code",
   "execution_count": 11,
   "metadata": {},
   "outputs": [],
   "source": [
    "combining_model=main_model(conv_model, classes)"
   ]
  },
  {
   "cell_type": "code",
   "execution_count": 12,
   "metadata": {},
   "outputs": [],
   "source": [
    "model=Model(inputs=conv_model.input, outputs=combining_model)"
   ]
  },
  {
   "cell_type": "code",
   "execution_count": 13,
   "metadata": {},
   "outputs": [
    {
     "name": "stdout",
     "output_type": "stream",
     "text": [
      "Model: \"model\"\n",
      "_________________________________________________________________\n",
      " Layer (type)                Output Shape              Param #   \n",
      "=================================================================\n",
      " input_1 (InputLayer)        [(None, 224, 224, 3)]     0         \n",
      "                                                                 \n",
      " block1_conv1 (Conv2D)       (None, 224, 224, 64)      1792      \n",
      "                                                                 \n",
      " block1_conv2 (Conv2D)       (None, 224, 224, 64)      36928     \n",
      "                                                                 \n",
      " block1_pool (MaxPooling2D)  (None, 112, 112, 64)      0         \n",
      "                                                                 \n",
      " block2_conv1 (Conv2D)       (None, 112, 112, 128)     73856     \n",
      "                                                                 \n",
      " block2_conv2 (Conv2D)       (None, 112, 112, 128)     147584    \n",
      "                                                                 \n",
      " block2_pool (MaxPooling2D)  (None, 56, 56, 128)       0         \n",
      "                                                                 \n",
      " block3_conv1 (Conv2D)       (None, 56, 56, 256)       295168    \n",
      "                                                                 \n",
      " block3_conv2 (Conv2D)       (None, 56, 56, 256)       590080    \n",
      "                                                                 \n",
      " block3_conv3 (Conv2D)       (None, 56, 56, 256)       590080    \n",
      "                                                                 \n",
      " block3_pool (MaxPooling2D)  (None, 28, 28, 256)       0         \n",
      "                                                                 \n",
      " block4_conv1 (Conv2D)       (None, 28, 28, 512)       1180160   \n",
      "                                                                 \n",
      " block4_conv2 (Conv2D)       (None, 28, 28, 512)       2359808   \n",
      "                                                                 \n",
      " block4_conv3 (Conv2D)       (None, 28, 28, 512)       2359808   \n",
      "                                                                 \n",
      " block4_pool (MaxPooling2D)  (None, 14, 14, 512)       0         \n",
      "                                                                 \n",
      " block5_conv1 (Conv2D)       (None, 14, 14, 512)       2359808   \n",
      "                                                                 \n",
      " block5_conv2 (Conv2D)       (None, 14, 14, 512)       2359808   \n",
      "                                                                 \n",
      " block5_conv3 (Conv2D)       (None, 14, 14, 512)       2359808   \n",
      "                                                                 \n",
      " block5_pool (MaxPooling2D)  (None, 7, 7, 512)         0         \n",
      "                                                                 \n",
      " flatten (Flatten)           (None, 25088)             0         \n",
      "                                                                 \n",
      " dense (Dense)               (None, 1024)              25691136  \n",
      "                                                                 \n",
      " dense_1 (Dense)             (None, 1024)              1049600   \n",
      "                                                                 \n",
      " dense_2 (Dense)             (None, 512)               524800    \n",
      "                                                                 \n",
      " dense_3 (Dense)             (None, 2)                 1026      \n",
      "                                                                 \n",
      "=================================================================\n",
      "Total params: 41,981,250\n",
      "Trainable params: 27,266,562\n",
      "Non-trainable params: 14,714,688\n",
      "_________________________________________________________________\n"
     ]
    }
   ],
   "source": [
    "model.compile(optimizer='Adam',\n",
    "              loss='categorical_crossentropy',\n",
    "              metrics=['accuracy'])\n",
    "model.summary()"
   ]
  },
  {
   "cell_type": "code",
   "execution_count": 14,
   "metadata": {},
   "outputs": [],
   "source": [
    "model_checkpoint = ModelCheckpoint(f\"../program/model_project.h5\", save_weights_only=True, save_best_only=True, monitor=\"val_accuracy\")\n",
    "learning_rate_reduce = ReduceLROnPlateau(monitor='val_accuracy',min_lr=0.00001)#Change learning rate if not performing good enough\n",
    "callbacks=[learning_rate_reduce, model_checkpoint]"
   ]
  },
  {
   "cell_type": "code",
   "execution_count": 15,
   "metadata": {},
   "outputs": [
    {
     "name": "stdout",
     "output_type": "stream",
     "text": [
      "Epoch 1/50\n"
     ]
    },
    {
     "name": "stderr",
     "output_type": "stream",
     "text": [
      "2023-04-12 15:35:44.460697: I tensorflow/compiler/xla/stream_executor/cuda/cuda_dnn.cc:428] Loaded cuDNN version 8100\n",
      "2023-04-12 15:35:50.890051: I tensorflow/compiler/xla/stream_executor/cuda/cuda_blas.cc:630] TensorFloat-32 will be used for the matrix multiplication. This will only be logged once.\n",
      "2023-04-12 15:35:50.898432: I tensorflow/compiler/xla/service/service.cc:173] XLA service 0x7f8f043d9630 initialized for platform CUDA (this does not guarantee that XLA will be used). Devices:\n",
      "2023-04-12 15:35:50.898464: I tensorflow/compiler/xla/service/service.cc:181]   StreamExecutor device (0): NVIDIA GeForce RTX 3060, Compute Capability 8.6\n",
      "2023-04-12 15:35:50.902589: I tensorflow/compiler/mlir/tensorflow/utils/dump_mlir_util.cc:268] disabling MLIR crash reproducer, set env var `MLIR_CRASH_REPRODUCER_DIRECTORY` to enable.\n",
      "2023-04-12 15:35:51.008953: I tensorflow/compiler/jit/xla_compilation_cache.cc:477] Compiled cluster using XLA!  This line is logged at most once for the lifetime of the process.\n"
     ]
    },
    {
     "name": "stdout",
     "output_type": "stream",
     "text": [
      "10/10 [==============================] - 14s 560ms/step - loss: 3.8285 - accuracy: 0.4875 - val_loss: 1.5962 - val_accuracy: 0.5000 - lr: 0.0010\n",
      "Epoch 2/50\n",
      "10/10 [==============================] - 3s 297ms/step - loss: 0.9849 - accuracy: 0.4844 - val_loss: 0.8390 - val_accuracy: 0.5000 - lr: 0.0010\n",
      "Epoch 3/50\n",
      "10/10 [==============================] - 3s 297ms/step - loss: 0.8012 - accuracy: 0.5063 - val_loss: 0.7146 - val_accuracy: 0.4474 - lr: 0.0010\n",
      "Epoch 4/50\n",
      "10/10 [==============================] - 3s 313ms/step - loss: 0.7347 - accuracy: 0.4719 - val_loss: 0.7375 - val_accuracy: 0.4474 - lr: 0.0010\n",
      "Epoch 5/50\n",
      "10/10 [==============================] - 3s 301ms/step - loss: 0.6847 - accuracy: 0.5406 - val_loss: 0.7147 - val_accuracy: 0.4737 - lr: 0.0010\n",
      "Epoch 6/50\n",
      "10/10 [==============================] - 3s 307ms/step - loss: 0.6700 - accuracy: 0.5906 - val_loss: 0.7698 - val_accuracy: 0.3421 - lr: 0.0010\n",
      "Epoch 7/50\n",
      "10/10 [==============================] - 4s 368ms/step - loss: 0.6498 - accuracy: 0.6438 - val_loss: 0.9014 - val_accuracy: 0.5263 - lr: 0.0010\n",
      "Epoch 8/50\n",
      "10/10 [==============================] - 4s 357ms/step - loss: 0.6947 - accuracy: 0.5562 - val_loss: 0.7131 - val_accuracy: 0.5526 - lr: 0.0010\n",
      "Epoch 9/50\n",
      "10/10 [==============================] - 3s 300ms/step - loss: 0.6243 - accuracy: 0.6594 - val_loss: 0.7454 - val_accuracy: 0.5000 - lr: 0.0010\n",
      "Epoch 10/50\n",
      "10/10 [==============================] - 4s 372ms/step - loss: 0.5919 - accuracy: 0.6875 - val_loss: 0.7696 - val_accuracy: 0.5789 - lr: 0.0010\n",
      "Epoch 11/50\n",
      "10/10 [==============================] - 3s 308ms/step - loss: 0.5807 - accuracy: 0.7031 - val_loss: 0.6450 - val_accuracy: 0.5789 - lr: 0.0010\n",
      "Epoch 12/50\n",
      "10/10 [==============================] - 4s 358ms/step - loss: 0.5322 - accuracy: 0.7031 - val_loss: 0.6512 - val_accuracy: 0.6579 - lr: 0.0010\n",
      "Epoch 13/50\n",
      "10/10 [==============================] - 3s 344ms/step - loss: 0.5038 - accuracy: 0.7406 - val_loss: 0.7014 - val_accuracy: 0.6842 - lr: 0.0010\n",
      "Epoch 14/50\n",
      "10/10 [==============================] - 4s 363ms/step - loss: 0.5514 - accuracy: 0.6906 - val_loss: 0.5072 - val_accuracy: 0.7105 - lr: 0.0010\n",
      "Epoch 15/50\n",
      "10/10 [==============================] - 3s 304ms/step - loss: 0.4436 - accuracy: 0.7719 - val_loss: 0.6298 - val_accuracy: 0.6579 - lr: 0.0010\n",
      "Epoch 16/50\n",
      "10/10 [==============================] - 3s 320ms/step - loss: 0.4520 - accuracy: 0.7719 - val_loss: 0.6889 - val_accuracy: 0.6053 - lr: 0.0010\n",
      "Epoch 17/50\n",
      "10/10 [==============================] - 4s 367ms/step - loss: 0.3796 - accuracy: 0.8062 - val_loss: 0.5232 - val_accuracy: 0.7632 - lr: 0.0010\n",
      "Epoch 18/50\n",
      "10/10 [==============================] - 3s 318ms/step - loss: 0.3597 - accuracy: 0.8406 - val_loss: 0.5551 - val_accuracy: 0.7105 - lr: 0.0010\n",
      "Epoch 19/50\n",
      "10/10 [==============================] - 3s 281ms/step - loss: 0.3039 - accuracy: 0.8562 - val_loss: 0.5522 - val_accuracy: 0.7368 - lr: 0.0010\n",
      "Epoch 20/50\n",
      "10/10 [==============================] - 3s 297ms/step - loss: 0.3220 - accuracy: 0.8344 - val_loss: 0.5666 - val_accuracy: 0.7632 - lr: 0.0010\n",
      "Epoch 21/50\n",
      "10/10 [==============================] - 3s 309ms/step - loss: 0.3639 - accuracy: 0.8313 - val_loss: 0.5500 - val_accuracy: 0.6842 - lr: 0.0010\n",
      "Epoch 22/50\n",
      "10/10 [==============================] - 3s 307ms/step - loss: 0.3244 - accuracy: 0.8313 - val_loss: 0.7180 - val_accuracy: 0.6579 - lr: 0.0010\n",
      "Epoch 23/50\n",
      "10/10 [==============================] - 3s 290ms/step - loss: 0.3478 - accuracy: 0.8500 - val_loss: 0.5383 - val_accuracy: 0.7105 - lr: 0.0010\n",
      "Epoch 24/50\n",
      "10/10 [==============================] - 3s 315ms/step - loss: 0.3522 - accuracy: 0.8375 - val_loss: 0.5347 - val_accuracy: 0.7105 - lr: 0.0010\n",
      "Epoch 25/50\n",
      "10/10 [==============================] - 4s 388ms/step - loss: 0.2902 - accuracy: 0.8625 - val_loss: 0.5288 - val_accuracy: 0.7895 - lr: 0.0010\n",
      "Epoch 26/50\n",
      "10/10 [==============================] - 3s 347ms/step - loss: 0.2630 - accuracy: 0.8656 - val_loss: 0.5491 - val_accuracy: 0.8421 - lr: 0.0010\n",
      "Epoch 27/50\n",
      "10/10 [==============================] - 3s 311ms/step - loss: 0.2746 - accuracy: 0.8813 - val_loss: 0.6871 - val_accuracy: 0.7105 - lr: 0.0010\n",
      "Epoch 28/50\n",
      "10/10 [==============================] - 3s 290ms/step - loss: 0.3030 - accuracy: 0.8562 - val_loss: 0.4668 - val_accuracy: 0.7368 - lr: 0.0010\n",
      "Epoch 29/50\n",
      "10/10 [==============================] - 3s 308ms/step - loss: 0.2646 - accuracy: 0.8781 - val_loss: 0.4298 - val_accuracy: 0.7368 - lr: 0.0010\n",
      "Epoch 30/50\n",
      "10/10 [==============================] - 3s 297ms/step - loss: 0.2350 - accuracy: 0.8813 - val_loss: 0.4647 - val_accuracy: 0.7632 - lr: 0.0010\n",
      "Epoch 31/50\n",
      "10/10 [==============================] - 3s 298ms/step - loss: 0.2906 - accuracy: 0.8469 - val_loss: 0.6440 - val_accuracy: 0.7368 - lr: 0.0010\n",
      "Epoch 32/50\n",
      "10/10 [==============================] - 3s 321ms/step - loss: 0.3297 - accuracy: 0.8594 - val_loss: 0.5334 - val_accuracy: 0.7632 - lr: 0.0010\n",
      "Epoch 33/50\n",
      "10/10 [==============================] - 3s 316ms/step - loss: 0.3767 - accuracy: 0.8313 - val_loss: 0.4841 - val_accuracy: 0.7368 - lr: 0.0010\n",
      "Epoch 34/50\n",
      "10/10 [==============================] - 3s 305ms/step - loss: 0.3191 - accuracy: 0.8687 - val_loss: 0.5231 - val_accuracy: 0.6842 - lr: 0.0010\n",
      "Epoch 35/50\n",
      "10/10 [==============================] - 3s 297ms/step - loss: 0.2149 - accuracy: 0.9062 - val_loss: 0.5403 - val_accuracy: 0.7368 - lr: 0.0010\n",
      "Epoch 36/50\n",
      "10/10 [==============================] - 3s 306ms/step - loss: 0.1763 - accuracy: 0.9062 - val_loss: 0.5739 - val_accuracy: 0.8158 - lr: 0.0010\n",
      "Epoch 37/50\n",
      "10/10 [==============================] - 3s 293ms/step - loss: 0.1169 - accuracy: 0.9531 - val_loss: 0.5763 - val_accuracy: 0.8421 - lr: 1.0000e-04\n",
      "Epoch 38/50\n",
      "10/10 [==============================] - 4s 397ms/step - loss: 0.0966 - accuracy: 0.9688 - val_loss: 0.5693 - val_accuracy: 0.8684 - lr: 1.0000e-04\n",
      "Epoch 39/50\n",
      "10/10 [==============================] - 3s 310ms/step - loss: 0.0924 - accuracy: 0.9531 - val_loss: 0.5432 - val_accuracy: 0.8684 - lr: 1.0000e-04\n",
      "Epoch 40/50\n",
      "10/10 [==============================] - 3s 326ms/step - loss: 0.0872 - accuracy: 0.9750 - val_loss: 0.5651 - val_accuracy: 0.8684 - lr: 1.0000e-04\n",
      "Epoch 41/50\n",
      "10/10 [==============================] - 3s 300ms/step - loss: 0.0929 - accuracy: 0.9656 - val_loss: 0.5583 - val_accuracy: 0.8421 - lr: 1.0000e-04\n",
      "Epoch 42/50\n",
      "10/10 [==============================] - 4s 361ms/step - loss: 0.0838 - accuracy: 0.9719 - val_loss: 0.6133 - val_accuracy: 0.8947 - lr: 1.0000e-04\n",
      "Epoch 43/50\n",
      "10/10 [==============================] - 3s 308ms/step - loss: 0.0850 - accuracy: 0.9500 - val_loss: 0.6041 - val_accuracy: 0.8684 - lr: 1.0000e-04\n",
      "Epoch 44/50\n",
      "10/10 [==============================] - 3s 313ms/step - loss: 0.0816 - accuracy: 0.9719 - val_loss: 0.5914 - val_accuracy: 0.8684 - lr: 1.0000e-04\n",
      "Epoch 45/50\n",
      "10/10 [==============================] - 3s 304ms/step - loss: 0.0789 - accuracy: 0.9750 - val_loss: 0.5867 - val_accuracy: 0.8684 - lr: 1.0000e-04\n",
      "Epoch 46/50\n",
      "10/10 [==============================] - 3s 317ms/step - loss: 0.0802 - accuracy: 0.9594 - val_loss: 0.6155 - val_accuracy: 0.8947 - lr: 1.0000e-04\n",
      "Epoch 47/50\n",
      "10/10 [==============================] - 3s 316ms/step - loss: 0.0720 - accuracy: 0.9750 - val_loss: 0.5964 - val_accuracy: 0.8684 - lr: 1.0000e-04\n",
      "Epoch 48/50\n",
      "10/10 [==============================] - 3s 323ms/step - loss: 0.0722 - accuracy: 0.9781 - val_loss: 0.6003 - val_accuracy: 0.8684 - lr: 1.0000e-04\n",
      "Epoch 49/50\n",
      "10/10 [==============================] - 3s 285ms/step - loss: 0.0722 - accuracy: 0.9719 - val_loss: 0.6275 - val_accuracy: 0.8684 - lr: 1.0000e-04\n",
      "Epoch 50/50\n",
      "10/10 [==============================] - 3s 300ms/step - loss: 0.0914 - accuracy: 0.9594 - val_loss: 0.7344 - val_accuracy: 0.8158 - lr: 1.0000e-04\n"
     ]
    }
   ],
   "source": [
    "history=model.fit(train, validation_data=validation, epochs=50, callbacks=callbacks)"
   ]
  },
  {
   "cell_type": "code",
   "execution_count": 16,
   "metadata": {},
   "outputs": [],
   "source": [
    "os.chdir(\"../program/\")\n",
    "model.load_weights('model_project.h5')  # load best val_accuracy\n",
    "os.chdir(\"../dataset/\")"
   ]
  },
  {
   "cell_type": "code",
   "execution_count": 17,
   "metadata": {},
   "outputs": [
    {
     "name": "stdout",
     "output_type": "stream",
     "text": [
      "2/2 [==============================] - 0s 29ms/step - loss: 1.1499 - accuracy: 0.7895\n"
     ]
    }
   ],
   "source": [
    "test_score=model.evaluate(test)"
   ]
  },
  {
   "cell_type": "code",
   "execution_count": 18,
   "metadata": {},
   "outputs": [],
   "source": [
    "from sklearn.metrics import classification_report, confusion_matrix\n",
    "import itertools\n",
    "\n",
    "target_names=[]\n",
    "for key in train.class_indices:\n",
    "    target_names.append(key)"
   ]
  },
  {
   "cell_type": "code",
   "execution_count": 19,
   "metadata": {},
   "outputs": [],
   "source": [
    "def plot_cfx(cm, classess, normalize=False, title='Confusion Matrix', cmap=plt.cm.Blues):\n",
    "    plt.figure(figsize=(10,10))\n",
    "    plt.imshow(cm, interpolation='nearest', cmap=cmap)\n",
    "    plt.title(title)\n",
    "    plt.colorbar()\n",
    "\n",
    "    tick_marks=np.arange(len(classess))\n",
    "    plt.xticks(tick_marks, classess, rotation=45)\n",
    "    plt.yticks(tick_marks, classess)\n",
    "\n",
    "    if normalize:\n",
    "        cm = cm.astype('float')/cm.sum(axis=1)[:,np.newaxis]\n",
    "        cm = np.around(cm, decimals=2)\n",
    "        cm[np.isnan(cm)] = 0.0\n",
    "        print('Confusion Matrix dengan Normalisasi')\n",
    "    else:\n",
    "        print('Confusion Matrix dengan Tanpa Normalisasi')\n",
    "    thresh=cm.max()/2.\n",
    "    for i, j in itertools.product(range(cm.shape[0]), range(cm.shape[1])):\n",
    "        plt.text(j, i, cm[i,j],\n",
    "                 horizontalalignment='center',\n",
    "                 color='white' if cm[i,j] > thresh else 'black')\n",
    "    \n",
    "    plt.tight_layout()\n",
    "    plt.ylabel('True Label')\n",
    "    plt.xlabel('Predicted Label')\n",
    "        "
   ]
  },
  {
   "cell_type": "code",
   "execution_count": 20,
   "metadata": {},
   "outputs": [
    {
     "name": "stdout",
     "output_type": "stream",
     "text": [
      "2/2 [==============================] - 1s 120ms/step\n",
      "confusion Matrix\n",
      "Confusion Matrix dengan Tanpa Normalisasi\n"
     ]
    },
    {
     "data": {
      "image/png": "[encoded data removed]",
      "text/plain": [
       "<Figure size 1000x1000 with 2 Axes>"
      ]
     },
     "metadata": {},
     "output_type": "display_data"
    }
   ],
   "source": [
    "#Confusion Matrix dan Classification Report\n",
    "Y_pred = model.predict(test)\n",
    "y_pred = np.argmax(Y_pred, axis=-1)\n",
    "print('confusion Matrix')\n",
    "cm=confusion_matrix(test.classes, y_pred)\n",
    "\n",
    "plot_cfx(cm, target_names, title='Confusion Matrix')"
   ]
  },
  {
   "cell_type": "code",
   "execution_count": 21,
   "metadata": {},
   "outputs": [
    {
     "name": "stdout",
     "output_type": "stream",
     "text": [
      "Classification Report\n",
      "              precision    recall  f1-score   support\n",
      "\n",
      "      forged       0.79      0.79      0.79        19\n",
      "    original       0.79      0.79      0.79        19\n",
      "\n",
      "    accuracy                           0.79        38\n",
      "   macro avg       0.79      0.79      0.79        38\n",
      "weighted avg       0.79      0.79      0.79        38\n",
      "\n"
     ]
    }
   ],
   "source": [
    "print('Classification Report')\n",
    "print(classification_report(test.classes, y_pred, target_names=target_names))"
   ]
  },
  {
   "cell_type": "code",
   "execution_count": 22,
   "metadata": {},
   "outputs": [
    {
     "data": {
      "image/png": "[encoded data removed]",
      "text/plain": [
       "<Figure size 1200x400 with 2 Axes>"
      ]
     },
     "metadata": {},
     "output_type": "display_data"
    }
   ],
   "source": [
    "train_accuracy=history.history['accuracy']\n",
    "val_accuracy=history.history['val_accuracy']\n",
    "train_loss=history.history['loss']\n",
    "val_loss=history.history['val_loss']\n",
    "\n",
    "epochs=range(len(train_accuracy))\n",
    "plt.figure(figsize=(12,4))\n",
    "\n",
    "#plotting the accuracy\n",
    "plt.subplot(1,2,1)\n",
    "plt.plot(epochs,train_accuracy,'b', label='Training Accuracy')\n",
    "plt.plot(epochs,val_accuracy,'r', label='Validation Accuracy')\n",
    "plt.title('Training and Validation Accuracy')\n",
    "plt.xlabel('Epoch')\n",
    "plt.ylabel('Accuracy')\n",
    "plt.legend(['train','val'], loc='upper right')\n",
    "\n",
    "#plotting the loss\n",
    "plt.subplot(1,2,2)\n",
    "plt.plot(epochs,train_loss,'b', label='Training Loss')\n",
    "plt.plot(epochs,val_loss,'r', label='Validation Loss')\n",
    "plt.title('Training and Validation Loss')\n",
    "plt.xlabel('Epoch')\n",
    "plt.ylabel('Loss')\n",
    "plt.legend(['train','val'], loc='upper right')\n",
    "\n",
    "plt.show()"
   ]
  }
 ],
 "metadata": {
  "kernelspec": {
   "display_name": "Python 3 (ipykernel)",
   "language": "python",
   "name": "python3"
  },
  "language_info": {
   "codemirror_mode": {
    "name": "ipython",
    "version": 3
   },
   "file_extension": ".py",
   "mimetype": "text/x-python",
   "name": "python",
   "nbconvert_exporter": "python",
   "pygments_lexer": "ipython3",
   "version": "3.9.16"
  }
 },
 "nbformat": 4,
 "nbformat_minor": 2
}
