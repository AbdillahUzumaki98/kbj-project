{
 "cells": [
  {
   "cell_type": "code",
   "execution_count": 1,
   "metadata": {},
   "outputs": [],
   "source": [
    "import os\n",
    "os.environ['TF_CPP_MIN_LOG_LEVEL'] = '3'\n",
    "\n",
    "from tensorflow.keras.utils import Sequence\n",
    "from tensorflow.keras.applications.mobilenet import MobileNet\n",
    "from tensorflow.keras.applications.vgg16 import VGG16\n",
    "from tensorflow.keras.models import Sequential,Model\n",
    "from tensorflow.keras.layers import Dense, Dropout, Activation, Flatten, GlobalAveragePooling2D\n",
    "from tensorflow.keras.layers import Conv2D, ZeroPadding2D, MaxPool2D\n",
    "from tensorflow.keras.layers import BatchNormalization\n",
    "from tensorflow.keras.preprocessing.image import ImageDataGenerator\n",
    "from tensorflow.keras.callbacks import EarlyStopping, ReduceLROnPlateau, ModelCheckpoint #import Cllback function\n",
    "\n",
    "from tensorflow.keras.optimizers import Adam, SGD, RMSprop\n",
    "\n",
    "import numpy as np\n",
    "import matplotlib.pyplot as plt"
   ]
  },
  {
   "cell_type": "code",
   "execution_count": 2,
   "metadata": {},
   "outputs": [],
   "source": [
    "os.chdir(\"../dataset\")"
   ]
  },
  {
   "cell_type": "code",
   "execution_count": 3,
   "metadata": {},
   "outputs": [],
   "source": [
    "parent = \"2_0_ready\"\n",
    "# parent = \"2_1_swt-2\"\n",
    "# parent = \"2_2_y_cb_cr\"\n",
    "\n",
    "train_path = f\"{parent}/train\"\n",
    "validation_path = f\"{parent}/validation\"\n",
    "test_path = f\"{parent}/test\""
   ]
  },
  {
   "cell_type": "code",
   "execution_count": 4,
   "metadata": {},
   "outputs": [],
   "source": [
    "batch_size = 32\n",
    "img_height = 400\n",
    "img_width = 400"
   ]
  },
  {
   "cell_type": "code",
   "execution_count": 5,
   "metadata": {},
   "outputs": [],
   "source": [
    "from keras.preprocessing.image import ImageDataGenerator\n",
    "train_datagen= ImageDataGenerator(\n",
    "                rescale=1./255,\n",
    "                # zoom_range=0.15, \n",
    "                # width_shift_range=0.2,\n",
    "                # shear_range=0.15\n",
    "                )\n",
    "test_datagen = ImageDataGenerator(rescale=1./255)"
   ]
  },
  {
   "cell_type": "code",
   "execution_count": 6,
   "metadata": {},
   "outputs": [
    {
     "name": "stdout",
     "output_type": "stream",
     "text": [
      "Found 7620 images belonging to 2 classes.\n",
      "Found 951 images belonging to 2 classes.\n",
      "Found 951 images belonging to 2 classes.\n"
     ]
    }
   ],
   "source": [
    "#setting train test split\n",
    "train = train_datagen.flow_from_directory(\n",
    "        train_path,\n",
    "        target_size=(img_height,img_width),\n",
    "        class_mode='categorical',\n",
    "        batch_size=batch_size,\n",
    "        subset='training' )\n",
    "\n",
    "test = test_datagen.flow_from_directory(\n",
    "        test_path,\n",
    "        target_size=(img_height,img_width),\n",
    "        class_mode='categorical',\n",
    "        batch_size=batch_size,\n",
    "        shuffle=False )\n",
    "\n",
    "validation = test_datagen.flow_from_directory(\n",
    "        validation_path,\n",
    "        target_size=(img_height,img_width),\n",
    "        class_mode='categorical',\n",
    "        batch_size=batch_size,\n",
    "        shuffle=False )"
   ]
  },
  {
   "cell_type": "code",
   "execution_count": 7,
   "metadata": {},
   "outputs": [
    {
     "data": {
      "text/plain": [
       "2"
      ]
     },
     "execution_count": 7,
     "metadata": {},
     "output_type": "execute_result"
    }
   ],
   "source": [
    "classes = train.num_classes\n",
    "classes"
   ]
  },
  {
   "cell_type": "code",
   "execution_count": 8,
   "metadata": {},
   "outputs": [],
   "source": [
    "# conv_model = MobileNet(weights='imagenet', include_top=False, input_shape=(img_height, img_width, 3)) \n",
    "conv_model = VGG16(weights='imagenet', include_top=False, input_shape=(img_height, img_width, 3)) "
   ]
  },
  {
   "cell_type": "code",
   "execution_count": 9,
   "metadata": {},
   "outputs": [],
   "source": [
    "conv_model.trainable = False"
   ]
  },
  {
   "cell_type": "code",
   "execution_count": 10,
   "metadata": {},
   "outputs": [],
   "source": [
    "def main_model(tl_model,classess):\n",
    "    m_model=tl_model.output\n",
    "    m_model=Flatten()(m_model)\n",
    "#     m_model=Dense(1024,activation='relu')(m_model)\n",
    "    m_model=Dropout(.2)(m_model)\n",
    "    m_model=Dense(1024,activation='relu')(m_model)\n",
    "    m_model=Dropout(.2)(m_model)\n",
    "    m_model=Dense(512,activation='relu')(m_model)\n",
    "    m_model=Dropout(.2)(m_model)\n",
    "    m_model=Dense(classess,activation='softmax')(m_model)\n",
    "    return m_model\n",
    "\n"
   ]
  },
  {
   "cell_type": "code",
   "execution_count": 11,
   "metadata": {},
   "outputs": [],
   "source": [
    "combining_model=main_model(conv_model, classes)"
   ]
  },
  {
   "cell_type": "code",
   "execution_count": 12,
   "metadata": {},
   "outputs": [],
   "source": [
    "model=Model(inputs=conv_model.input, outputs=combining_model)"
   ]
  },
  {
   "cell_type": "code",
   "execution_count": 13,
   "metadata": {},
   "outputs": [
    {
     "name": "stdout",
     "output_type": "stream",
     "text": [
      "Model: \"model\"\n",
      "_________________________________________________________________\n",
      " Layer (type)                Output Shape              Param #   \n",
      "=================================================================\n",
      " input_1 (InputLayer)        [(None, 400, 400, 3)]     0         \n",
      "                                                                 \n",
      " block1_conv1 (Conv2D)       (None, 400, 400, 64)      1792      \n",
      "                                                                 \n",
      " block1_conv2 (Conv2D)       (None, 400, 400, 64)      36928     \n",
      "                                                                 \n",
      " block1_pool (MaxPooling2D)  (None, 200, 200, 64)      0         \n",
      "                                                                 \n",
      " block2_conv1 (Conv2D)       (None, 200, 200, 128)     73856     \n",
      "                                                                 \n",
      " block2_conv2 (Conv2D)       (None, 200, 200, 128)     147584    \n",
      "                                                                 \n",
      " block2_pool (MaxPooling2D)  (None, 100, 100, 128)     0         \n",
      "                                                                 \n",
      " block3_conv1 (Conv2D)       (None, 100, 100, 256)     295168    \n",
      "                                                                 \n",
      " block3_conv2 (Conv2D)       (None, 100, 100, 256)     590080    \n",
      "                                                                 \n",
      " block3_conv3 (Conv2D)       (None, 100, 100, 256)     590080    \n",
      "                                                                 \n",
      " block3_pool (MaxPooling2D)  (None, 50, 50, 256)       0         \n",
      "                                                                 \n",
      " block4_conv1 (Conv2D)       (None, 50, 50, 512)       1180160   \n",
      "                                                                 \n",
      " block4_conv2 (Conv2D)       (None, 50, 50, 512)       2359808   \n",
      "                                                                 \n",
      " block4_conv3 (Conv2D)       (None, 50, 50, 512)       2359808   \n",
      "                                                                 \n",
      " block4_pool (MaxPooling2D)  (None, 25, 25, 512)       0         \n",
      "                                                                 \n",
      " block5_conv1 (Conv2D)       (None, 25, 25, 512)       2359808   \n",
      "                                                                 \n",
      " block5_conv2 (Conv2D)       (None, 25, 25, 512)       2359808   \n",
      "                                                                 \n",
      " block5_conv3 (Conv2D)       (None, 25, 25, 512)       2359808   \n",
      "                                                                 \n",
      " block5_pool (MaxPooling2D)  (None, 12, 12, 512)       0         \n",
      "                                                                 \n",
      " flatten (Flatten)           (None, 73728)             0         \n",
      "                                                                 \n",
      " dropout (Dropout)           (None, 73728)             0         \n",
      "                                                                 \n",
      " dense (Dense)               (None, 1024)              75498496  \n",
      "                                                                 \n",
      " dropout_1 (Dropout)         (None, 1024)              0         \n",
      "                                                                 \n",
      " dense_1 (Dense)             (None, 512)               524800    \n",
      "                                                                 \n",
      " dropout_2 (Dropout)         (None, 512)               0         \n",
      "                                                                 \n",
      " dense_2 (Dense)             (None, 2)                 1026      \n",
      "                                                                 \n",
      "=================================================================\n",
      "Total params: 90,739,010\n",
      "Trainable params: 76,024,322\n",
      "Non-trainable params: 14,714,688\n",
      "_________________________________________________________________\n"
     ]
    }
   ],
   "source": [
    "optimizer = Adam(learning_rate=1e-4)\n",
    "# optimizer = SGD(learning_rate=1e-4, momentum=.9)\n",
    "# optimizer = RMSprop(learning_rate=1e-4, momentum=.9)\n",
    "\n",
    "model.compile(optimizer=optimizer,\n",
    "              loss='categorical_crossentropy',\n",
    "              metrics=['accuracy'])\n",
    "model.summary()"
   ]
  },
  {
   "cell_type": "code",
   "execution_count": 14,
   "metadata": {},
   "outputs": [],
   "source": [
    "model_checkpoint = ModelCheckpoint(f\"../program/model_project.h5\", save_weights_only=True, save_best_only=True, monitor=\"val_accuracy\")\n",
    "learning_rate_reduce = ReduceLROnPlateau(monitor='val_accuracy',min_lr=1e-8, mode=\"max\", patience=10, min_delta=.01)#Change learning rate if not performing good enough\n",
    "early_stopping = EarlyStopping(monitor=\"val_accuracy\", patience=15, min_delta=.01, mode=\"max\", start_from_epoch=10)\n",
    "callbacks=[learning_rate_reduce, model_checkpoint]"
   ]
  },
  {
   "cell_type": "code",
   "execution_count": 15,
   "metadata": {
    "scrolled": true
   },
   "outputs": [
    {
     "name": "stdout",
     "output_type": "stream",
     "text": [
      "Epoch 1/50\n",
      "239/239 [==============================] - 337s 1s/step - loss: 0.7731 - accuracy: 0.5747 - val_loss: 0.6146 - val_accuracy: 0.6583 - lr: 1.0000e-04\n",
      "Epoch 2/50\n",
      "239/239 [==============================] - 98s 410ms/step - loss: 0.5072 - accuracy: 0.7407 - val_loss: 0.3748 - val_accuracy: 0.8349 - lr: 1.0000e-04\n",
      "Epoch 3/50\n",
      "239/239 [==============================] - 97s 406ms/step - loss: 0.3693 - accuracy: 0.8182 - val_loss: 0.3034 - val_accuracy: 0.8612 - lr: 1.0000e-04\n",
      "Epoch 4/50\n",
      "239/239 [==============================] - 97s 403ms/step - loss: 0.2906 - accuracy: 0.8625 - val_loss: 0.2935 - val_accuracy: 0.8465 - lr: 1.0000e-04\n",
      "Epoch 5/50\n",
      "239/239 [==============================] - 100s 418ms/step - loss: 0.2513 - accuracy: 0.8801 - val_loss: 0.2205 - val_accuracy: 0.8991 - lr: 1.0000e-04\n",
      "Epoch 6/50\n",
      "239/239 [==============================] - 97s 405ms/step - loss: 0.2028 - accuracy: 0.9058 - val_loss: 0.1934 - val_accuracy: 0.9243 - lr: 1.0000e-04\n",
      "Epoch 7/50\n",
      "239/239 [==============================] - 98s 409ms/step - loss: 0.1850 - accuracy: 0.9129 - val_loss: 0.1481 - val_accuracy: 0.9422 - lr: 1.0000e-04\n",
      "Epoch 8/50\n",
      "239/239 [==============================] - 96s 401ms/step - loss: 0.1573 - accuracy: 0.9281 - val_loss: 0.1615 - val_accuracy: 0.9306 - lr: 1.0000e-04\n",
      "Epoch 9/50\n",
      "239/239 [==============================] - 95s 397ms/step - loss: 0.1424 - accuracy: 0.9353 - val_loss: 0.1294 - val_accuracy: 0.9317 - lr: 1.0000e-04\n",
      "Epoch 10/50\n",
      "239/239 [==============================] - 94s 394ms/step - loss: 0.1352 - accuracy: 0.9373 - val_loss: 0.1454 - val_accuracy: 0.9274 - lr: 1.0000e-04\n",
      "Epoch 11/50\n",
      "239/239 [==============================] - 94s 395ms/step - loss: 0.1194 - accuracy: 0.9448 - val_loss: 0.1097 - val_accuracy: 0.9474 - lr: 1.0000e-04\n",
      "Epoch 12/50\n",
      "239/239 [==============================] - 96s 401ms/step - loss: 0.1182 - accuracy: 0.9434 - val_loss: 0.1275 - val_accuracy: 0.9359 - lr: 1.0000e-04\n",
      "Epoch 13/50\n",
      "239/239 [==============================] - 95s 396ms/step - loss: 0.1058 - accuracy: 0.9530 - val_loss: 0.1263 - val_accuracy: 0.9485 - lr: 1.0000e-04\n",
      "Epoch 14/50\n",
      "239/239 [==============================] - 97s 403ms/step - loss: 0.1105 - accuracy: 0.9499 - val_loss: 0.0976 - val_accuracy: 0.9527 - lr: 1.0000e-04\n",
      "Epoch 15/50\n",
      "239/239 [==============================] - 99s 411ms/step - loss: 0.1158 - accuracy: 0.9495 - val_loss: 0.0933 - val_accuracy: 0.9569 - lr: 1.0000e-04\n",
      "Epoch 16/50\n",
      "239/239 [==============================] - 97s 405ms/step - loss: 0.1029 - accuracy: 0.9534 - val_loss: 0.1492 - val_accuracy: 0.9285 - lr: 1.0000e-04\n",
      "Epoch 17/50\n",
      "239/239 [==============================] - 95s 398ms/step - loss: 0.1080 - accuracy: 0.9525 - val_loss: 0.0953 - val_accuracy: 0.9485 - lr: 1.0000e-04\n",
      "Epoch 18/50\n",
      "239/239 [==============================] - 97s 408ms/step - loss: 0.0966 - accuracy: 0.9542 - val_loss: 0.0704 - val_accuracy: 0.9653 - lr: 1.0000e-04\n",
      "Epoch 19/50\n",
      "239/239 [==============================] - 96s 400ms/step - loss: 0.0919 - accuracy: 0.9556 - val_loss: 0.0907 - val_accuracy: 0.9569 - lr: 1.0000e-04\n",
      "Epoch 20/50\n",
      "239/239 [==============================] - 95s 397ms/step - loss: 0.0950 - accuracy: 0.9526 - val_loss: 0.0799 - val_accuracy: 0.9600 - lr: 1.0000e-04\n",
      "Epoch 21/50\n",
      "239/239 [==============================] - 97s 407ms/step - loss: 0.0950 - accuracy: 0.9568 - val_loss: 0.0791 - val_accuracy: 0.9579 - lr: 1.0000e-04\n",
      "Epoch 22/50\n",
      "239/239 [==============================] - 98s 408ms/step - loss: 0.0999 - accuracy: 0.9551 - val_loss: 0.0741 - val_accuracy: 0.9642 - lr: 1.0000e-04\n",
      "Epoch 23/50\n",
      "239/239 [==============================] - 98s 411ms/step - loss: 0.0795 - accuracy: 0.9619 - val_loss: 0.0739 - val_accuracy: 0.9600 - lr: 1.0000e-04\n",
      "Epoch 24/50\n",
      "239/239 [==============================] - 101s 420ms/step - loss: 0.0855 - accuracy: 0.9601 - val_loss: 0.0784 - val_accuracy: 0.9632 - lr: 1.0000e-04\n",
      "Epoch 25/50\n",
      "239/239 [==============================] - 98s 411ms/step - loss: 0.0925 - accuracy: 0.9567 - val_loss: 0.0733 - val_accuracy: 0.9558 - lr: 1.0000e-04\n",
      "Epoch 26/50\n",
      "239/239 [==============================] - 99s 414ms/step - loss: 0.0747 - accuracy: 0.9631 - val_loss: 0.0647 - val_accuracy: 0.9653 - lr: 1.0000e-04\n",
      "Epoch 27/50\n",
      "239/239 [==============================] - 97s 406ms/step - loss: 0.0775 - accuracy: 0.9612 - val_loss: 0.0864 - val_accuracy: 0.9558 - lr: 1.0000e-04\n",
      "Epoch 28/50\n",
      "239/239 [==============================] - 98s 410ms/step - loss: 0.0761 - accuracy: 0.9627 - val_loss: 0.0796 - val_accuracy: 0.9590 - lr: 1.0000e-04\n",
      "Epoch 29/50\n",
      "239/239 [==============================] - 97s 406ms/step - loss: 0.0564 - accuracy: 0.9723 - val_loss: 0.0591 - val_accuracy: 0.9674 - lr: 1.0000e-05\n",
      "Epoch 30/50\n",
      "239/239 [==============================] - 94s 392ms/step - loss: 0.0506 - accuracy: 0.9740 - val_loss: 0.0531 - val_accuracy: 0.9664 - lr: 1.0000e-05\n",
      "Epoch 31/50\n",
      "239/239 [==============================] - 94s 392ms/step - loss: 0.0481 - accuracy: 0.9751 - val_loss: 0.0523 - val_accuracy: 0.9716 - lr: 1.0000e-05\n",
      "Epoch 32/50\n",
      "239/239 [==============================] - 93s 390ms/step - loss: 0.0481 - accuracy: 0.9759 - val_loss: 0.0538 - val_accuracy: 0.9706 - lr: 1.0000e-05\n",
      "Epoch 33/50\n",
      "239/239 [==============================] - 93s 387ms/step - loss: 0.0482 - accuracy: 0.9766 - val_loss: 0.0558 - val_accuracy: 0.9621 - lr: 1.0000e-05\n",
      "Epoch 34/50\n",
      "239/239 [==============================] - 93s 389ms/step - loss: 0.0452 - accuracy: 0.9766 - val_loss: 0.0550 - val_accuracy: 0.9642 - lr: 1.0000e-05\n",
      "Epoch 35/50\n",
      "239/239 [==============================] - 95s 395ms/step - loss: 0.0457 - accuracy: 0.9757 - val_loss: 0.0540 - val_accuracy: 0.9727 - lr: 1.0000e-05\n",
      "Epoch 36/50\n",
      "239/239 [==============================] - 93s 389ms/step - loss: 0.0449 - accuracy: 0.9786 - val_loss: 0.0522 - val_accuracy: 0.9653 - lr: 1.0000e-05\n",
      "Epoch 37/50\n",
      "239/239 [==============================] - 91s 381ms/step - loss: 0.0450 - accuracy: 0.9765 - val_loss: 0.0533 - val_accuracy: 0.9695 - lr: 1.0000e-05\n",
      "Epoch 38/50\n",
      "239/239 [==============================] - 93s 386ms/step - loss: 0.0446 - accuracy: 0.9761 - val_loss: 0.0551 - val_accuracy: 0.9653 - lr: 1.0000e-05\n",
      "Epoch 39/50\n",
      "239/239 [==============================] - 92s 386ms/step - loss: 0.0432 - accuracy: 0.9765 - val_loss: 0.0525 - val_accuracy: 0.9664 - lr: 1.0000e-06\n",
      "Epoch 40/50\n",
      "239/239 [==============================] - 93s 390ms/step - loss: 0.0416 - accuracy: 0.9791 - val_loss: 0.0516 - val_accuracy: 0.9664 - lr: 1.0000e-06\n",
      "Epoch 41/50\n",
      "239/239 [==============================] - 93s 387ms/step - loss: 0.0427 - accuracy: 0.9774 - val_loss: 0.0517 - val_accuracy: 0.9664 - lr: 1.0000e-06\n",
      "Epoch 42/50\n",
      "239/239 [==============================] - 93s 387ms/step - loss: 0.0418 - accuracy: 0.9786 - val_loss: 0.0518 - val_accuracy: 0.9642 - lr: 1.0000e-06\n",
      "Epoch 43/50\n",
      "239/239 [==============================] - 95s 395ms/step - loss: 0.0428 - accuracy: 0.9777 - val_loss: 0.0516 - val_accuracy: 0.9674 - lr: 1.0000e-06\n",
      "Epoch 44/50\n",
      "239/239 [==============================] - 97s 405ms/step - loss: 0.0412 - accuracy: 0.9783 - val_loss: 0.0521 - val_accuracy: 0.9674 - lr: 1.0000e-06\n",
      "Epoch 45/50\n",
      "239/239 [==============================] - 98s 408ms/step - loss: 0.0412 - accuracy: 0.9798 - val_loss: 0.0523 - val_accuracy: 0.9664 - lr: 1.0000e-06\n",
      "Epoch 46/50\n",
      "239/239 [==============================] - 95s 397ms/step - loss: 0.0438 - accuracy: 0.9774 - val_loss: 0.0514 - val_accuracy: 0.9664 - lr: 1.0000e-06\n",
      "Epoch 47/50\n",
      "239/239 [==============================] - 98s 409ms/step - loss: 0.0423 - accuracy: 0.9780 - val_loss: 0.0512 - val_accuracy: 0.9674 - lr: 1.0000e-06\n",
      "Epoch 48/50\n",
      "239/239 [==============================] - 97s 404ms/step - loss: 0.0416 - accuracy: 0.9776 - val_loss: 0.0511 - val_accuracy: 0.9674 - lr: 1.0000e-06\n",
      "Epoch 49/50\n",
      "239/239 [==============================] - 99s 412ms/step - loss: 0.0425 - accuracy: 0.9778 - val_loss: 0.0510 - val_accuracy: 0.9674 - lr: 1.0000e-07\n",
      "Epoch 50/50\n",
      "239/239 [==============================] - 98s 409ms/step - loss: 0.0420 - accuracy: 0.9783 - val_loss: 0.0511 - val_accuracy: 0.9674 - lr: 1.0000e-07\n"
     ]
    }
   ],
   "source": [
    "history=model.fit(train, validation_data=validation, epochs=50, callbacks=callbacks)"
   ]
  },
  {
   "cell_type": "code",
   "execution_count": 16,
   "metadata": {},
   "outputs": [],
   "source": [
    "os.chdir(\"../program/\")\n",
    "model.load_weights('model_project.h5')  # load best val_accuracy\n",
    "os.chdir(\"../dataset/\")"
   ]
  },
  {
   "cell_type": "code",
   "execution_count": 17,
   "metadata": {},
   "outputs": [
    {
     "name": "stdout",
     "output_type": "stream",
     "text": [
      "30/30 [==============================] - 34s 1s/step - loss: 0.0527 - accuracy: 0.9832\n"
     ]
    }
   ],
   "source": [
    "test_score=model.evaluate(test)"
   ]
  },
  {
   "cell_type": "code",
   "execution_count": 18,
   "metadata": {},
   "outputs": [],
   "source": [
    "from sklearn.metrics import classification_report, confusion_matrix, f1_score, accuracy_score\n",
    "import itertools\n",
    "\n",
    "target_names=[]\n",
    "for key in train.class_indices:\n",
    "    target_names.append(key)"
   ]
  },
  {
   "cell_type": "code",
   "execution_count": 19,
   "metadata": {},
   "outputs": [],
   "source": [
    "def plot_cfx(cm, classess, normalize=False, title='Confusion Matrix', cmap=plt.cm.Blues):\n",
    "    plt.figure(figsize=(10,10))\n",
    "    plt.imshow(cm, interpolation='nearest', cmap=cmap)\n",
    "    plt.title(title)\n",
    "    plt.colorbar()\n",
    "\n",
    "    tick_marks=np.arange(len(classess))\n",
    "    plt.xticks(tick_marks, classess, rotation=45)\n",
    "    plt.yticks(tick_marks, classess)\n",
    "\n",
    "    if normalize:\n",
    "        cm = cm.astype('float')/cm.sum(axis=1)[:,np.newaxis]\n",
    "        cm = np.around(cm, decimals=2)\n",
    "        cm[np.isnan(cm)] = 0.0\n",
    "        print('Confusion Matrix dengan Normalisasi')\n",
    "    else:\n",
    "        print('Confusion Matrix dengan Tanpa Normalisasi')\n",
    "    thresh=cm.max()/2.\n",
    "    for i, j in itertools.product(range(cm.shape[0]), range(cm.shape[1])):\n",
    "        plt.text(j, i, cm[i,j],\n",
    "                 horizontalalignment='center',\n",
    "                 color='white' if cm[i,j] > thresh else 'black')\n",
    "    \n",
    "    plt.tight_layout()\n",
    "    plt.ylabel('True Label')\n",
    "    plt.xlabel('Predicted Label')\n",
    "        "
   ]
  },
  {
   "cell_type": "code",
   "execution_count": 20,
   "metadata": {},
   "outputs": [
    {
     "name": "stdout",
     "output_type": "stream",
     "text": [
      "30/30 [==============================] - 11s 330ms/step\n",
      "confusion Matrix\n",
      "Confusion Matrix dengan Tanpa Normalisasi\n"
     ]
    },
    {
     "data": {
      "image/png": "[encoded data removed]",
      "text/plain": [
       "<Figure size 1000x1000 with 2 Axes>"
      ]
     },
     "metadata": {},
     "output_type": "display_data"
    }
   ],
   "source": [
    "#Confusion Matrix dan Classification Report\n",
    "Y_pred = model.predict(test)\n",
    "y_pred = np.argmax(Y_pred, axis=-1)\n",
    "print('confusion Matrix')\n",
    "cm=confusion_matrix(test.classes, y_pred)\n",
    "\n",
    "plot_cfx(cm, target_names, title='Confusion Matrix')\n",
    "plt.savefig(f\"../program/confusius_matrix.jpg\")"
   ]
  },
  {
   "cell_type": "code",
   "execution_count": 21,
   "metadata": {},
   "outputs": [
    {
     "name": "stdout",
     "output_type": "stream",
     "text": [
      "Classification Report\n",
      "              precision    recall  f1-score   support\n",
      "\n",
      "      forged       0.99      0.97      0.98       477\n",
      "    original       0.97      0.99      0.98       474\n",
      "\n",
      "    accuracy                           0.98       951\n",
      "   macro avg       0.98      0.98      0.98       951\n",
      "weighted avg       0.98      0.98      0.98       951\n",
      "\n"
     ]
    }
   ],
   "source": [
    "print('Classification Report')\n",
    "print(classification_report(test.classes, y_pred, target_names=target_names))"
   ]
  },
  {
   "cell_type": "code",
   "execution_count": 22,
   "metadata": {},
   "outputs": [
    {
     "data": {
      "image/png": "[encoded data removed]",
      "text/plain": [
       "<Figure size 1200x400 with 2 Axes>"
      ]
     },
     "metadata": {},
     "output_type": "display_data"
    }
   ],
   "source": [
    "train_accuracy=history.history['accuracy']\n",
    "val_accuracy=history.history['val_accuracy']\n",
    "train_loss=history.history['loss']\n",
    "val_loss=history.history['val_loss']\n",
    "\n",
    "epochs=range(len(train_accuracy))\n",
    "plt.figure(figsize=(12,4))\n",
    "\n",
    "#plotting the accuracy\n",
    "plt.subplot(1,2,1)\n",
    "plt.plot(epochs,train_accuracy,'b', label='Training Accuracy')\n",
    "plt.plot(epochs,val_accuracy,'r', label='Validation Accuracy')\n",
    "plt.title('Training and Validation Accuracy')\n",
    "plt.xlabel('Epoch')\n",
    "plt.ylabel('Accuracy')\n",
    "plt.legend(['train','val'], loc='upper right')\n",
    "\n",
    "#plotting the loss\n",
    "plt.subplot(1,2,2)\n",
    "plt.plot(epochs,train_loss,'b', label='Training Loss')\n",
    "plt.plot(epochs,val_loss,'r', label='Validation Loss')\n",
    "plt.title('Training and Validation Loss')\n",
    "plt.xlabel('Epoch')\n",
    "plt.ylabel('Loss')\n",
    "plt.legend(['train','val'], loc='upper right')\n",
    "\n",
    "plt.show()"
   ]
  },
  {
   "cell_type": "code",
   "execution_count": 23,
   "metadata": {},
   "outputs": [],
   "source": [
    "test_label = test.classes\n",
    "predict_label = y_pred\n",
    "\n",
    "result_txt = open(f\"../program/result.txt\", \"w\")\n",
    "result_txt.write(f\"Accuracy: {accuracy_score(test_label, predict_label)}\\nF1 score - micro: {f1_score(test_label, predict_label, average='micro')}\\nF1 score - macro: {f1_score(test_label, predict_label, average='macro')}\\nF1 score - weighted: {f1_score(test_label, predict_label, average='weighted')}\\nClassification Report:\\n{classification_report(test_label, predict_label, digits=3)}\")\n",
    "result_txt.close()"
   ]
  },
  {
   "cell_type": "code",
   "execution_count": null,
   "metadata": {},
   "outputs": [],
   "source": []
  }
 ],
 "metadata": {
  "kernelspec": {
   "display_name": "Python 3 (ipykernel)",
   "language": "python",
   "name": "python3"
  },
  "language_info": {
   "codemirror_mode": {
    "name": "ipython",
    "version": 3
   },
   "file_extension": ".py",
   "mimetype": "text/x-python",
   "name": "python",
   "nbconvert_exporter": "python",
   "pygments_lexer": "ipython3",
   "version": "3.9.16"
  }
 },
 "nbformat": 4,
 "nbformat_minor": 2
}
